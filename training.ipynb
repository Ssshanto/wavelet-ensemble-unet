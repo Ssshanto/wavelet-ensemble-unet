{
 "cells": [
  {
   "cell_type": "code",
   "execution_count": 1,
   "metadata": {},
   "outputs": [
    {
     "name": "stderr",
     "output_type": "stream",
     "text": [
      "INFO:albumentations.check_version:A new version of Albumentations is available: 1.4.8 (you have 1.4.7). Upgrade using: pip install --upgrade albumentations\n"
     ]
    }
   ],
   "source": [
    "import torch\n",
    "import torch.nn as nn\n",
    "import torch.nn.functional as F\n",
    "import glob\n",
    "import os\n",
    "import numpy as np\n",
    "import pandas as pd\n",
    "import matplotlib.pyplot as plt\n",
    "import cv2\n",
    "import random\n",
    "\n",
    "import torch.optim as optim\n",
    "from torch.optim import lr_scheduler\n",
    "\n",
    "from collections import OrderedDict\n",
    "from tqdm import tqdm\n",
    "\n",
    "from torchsummary import summary\n",
    "\n",
    "from albumentations.augmentations import transforms, Normalize\n",
    "from albumentations import Flip, RandomRotate90, Resize\n",
    "from albumentations.core.composition import Compose, OneOf\n",
    "\n",
    "from sklearn.model_selection import train_test_split\n",
    "\n",
    "import argparse\n",
    "\n",
    "import models\n",
    "import metrics\n",
    "import utils\n",
    "from train import *\n",
    "from data import BUSIDataset\n",
    "\n",
    "config = argparse.Namespace()\n",
    "\n",
    "config.model = 'Feature_Fusion_UNet'\n",
    "\n",
    "config.SIZE = 128\n",
    "config.batch_size = 8\n",
    "config.num_workers = 8\n",
    "config.n_channels = 1\n",
    "config.lr = 0.0001\n",
    "config.min_lr = 0.00001\n",
    "config.epochs = 50\n",
    "config.early_stopping = 50\n",
    "config.patience = config.early_stopping\n",
    "config.base_dir = ''\n",
    "config.root_path = os.path.join(config.base_dir, 'breast-ultrasound-images-dataset/Dataset_BUSI_with_GT/')\n",
    "config.semantic = False\n",
    "config.device = torch.device('cuda:0')\n",
    "config.classes = ['normal', 'benign', 'malignant']\n",
    "config.labels = []\n",
    "config.num_classes = 3 if config.semantic else 1\n",
    "config.loss = 'BCEDiceLoss'\n",
    "config.optimizer = 'Adam'\n",
    "config.scheduler = 'CosineAnnealingLR'\n",
    "config.weight_decay = 1e-4\n",
    "config.momentum = 0.9\n",
    "config.nesterov = False\n",
    "config.seed = 4\n",
    "\n",
    "if config.semantic:\n",
    "    config.labels = config.classes\n",
    "else:\n",
    "    config.labels = ['cancer']\n",
    "\n",
    "# write a function that sets the seed of all the libraries\n",
    "def set_seed():\n",
    "    torch.manual_seed(config.seed)\n",
    "    np.random.seed(config.seed)\n",
    "    random.seed(config.seed)"
   ]
  },
  {
   "cell_type": "code",
   "execution_count": 2,
   "metadata": {},
   "outputs": [],
   "source": [
    "def run_model(config):\n",
    "    if config.model is not None and not os.path.exists('model_files/%s' % config.model):\n",
    "        os.makedirs('model_files/%s' % config.model)\n",
    "\n",
    "    print('-' * 20)\n",
    "    for key, value in config.__dict__.items():\n",
    "        print('%s: %s' % (key, value))\n",
    "    print('-' * 20)\n",
    "\n",
    "\n",
    "    criterion = metrics.__dict__[config.loss]().cuda()\n",
    "    model = models.__dict__[config.model](n_channels=config.n_channels,\n",
    "                                            n_classes=config.num_classes).cuda()\n",
    "\n",
    "\n",
    "    summary(model, (config.n_channels, config.SIZE, config.SIZE))\n",
    "\n",
    "    params = filter(lambda p: p.requires_grad, model.parameters())\n",
    "    num_params = sum([p.numel() for p in model.parameters()])\n",
    "\n",
    "    if config.optimizer == 'Adam':\n",
    "        optimizer = optim.Adam(\n",
    "            params, lr=config.lr, weight_decay=config.weight_decay)\n",
    "    elif config.optimizer == 'SGD':\n",
    "        optimizer = optim.SGD(params, lr=config.lr, momentum=config.momentum,\n",
    "                                nesterov=config.nesterov, weight_decay=config.weight_decay)\n",
    "\n",
    "    if config.scheduler == 'CosineAnnealingLR':\n",
    "        scheduler = lr_scheduler.CosineAnnealingLR(\n",
    "            optimizer, T_max=config.epochs, eta_min=config.min_lr)\n",
    "    elif config.scheduler == 'ReduceLROnPlateau':\n",
    "        scheduler = lr_scheduler.ReduceLROnPlateau(optimizer, factor=config.factor, patience=config.patience,\n",
    "                                                    verbose=1, min_lr=config.min_lr)\n",
    "    else:\n",
    "        scheduler = None\n",
    "\n",
    "    image_paths, mask_paths = utils.load_dataset(config.root_path)\n",
    "    print(f\"Total Images: {len(image_paths)}, Masks: {len(mask_paths)}\")\n",
    "\n",
    "    train_transform = Compose([\n",
    "        RandomRotate90(),\n",
    "        Flip(),\n",
    "    ])\n",
    "\n",
    "    # image_paths, mask_paths = image_paths[:20], mask_paths[:20] # overfitting\n",
    "    X_train, X_test, y_train, y_test = train_test_split(image_paths, mask_paths,  test_size=0.4, random_state=config.seed)\n",
    "    X_val, X_test, y_val, y_test = train_test_split(X_test, y_test, test_size=0.5, random_state=config.seed)\n",
    "    # split X_test, y_test into validation and test, 50-50\n",
    "\n",
    "    train_dataset = BUSIDataset(image_paths=X_train, mask_paths=y_train, size=config.SIZE, transform=train_transform)\n",
    "    val_dataset = BUSIDataset(image_paths=X_val, mask_paths=y_val, size=config.SIZE, transform=None)\n",
    "    test_dataset = BUSIDataset(image_paths=X_test, mask_paths=y_test, size=config.SIZE, transform=None)\n",
    "\n",
    "    train_loader = torch.utils.data.DataLoader(\n",
    "        train_dataset,\n",
    "        batch_size=config.batch_size,\n",
    "        shuffle=True,\n",
    "        drop_last=False)\n",
    "\n",
    "    val_loader = torch.utils.data.DataLoader(\n",
    "        val_dataset,\n",
    "        batch_size=config.batch_size,\n",
    "        shuffle=True,\n",
    "        drop_last=False)\n",
    "\n",
    "    test_loader = torch.utils.data.DataLoader(\n",
    "        test_dataset,\n",
    "        batch_size=config.batch_size,\n",
    "        shuffle=True,\n",
    "        drop_last=False)\n",
    "\n",
    "    log = OrderedDict([\n",
    "        ('train_lr', []),\n",
    "        ('train_loss', []),\n",
    "        ('train_iou', []),\n",
    "        ('train_dice', []),\n",
    "        ('val_loss', []),\n",
    "        ('val_iou', []),\n",
    "        ('val_dice', []),\n",
    "    ])\n",
    "\n",
    "    best_dice = 0\n",
    "    trigger = 0\n",
    "    total_trained_epochs = 0\n",
    "    for epoch in range(config.epochs):\n",
    "        print('Epoch [%d/%d]' % (epoch, config.epochs))\n",
    "        total_trained_epochs += 1\n",
    "\n",
    "        # train for one epoch\n",
    "        train_log = train(train_loader, model, criterion, optimizer)\n",
    "        # evaluate on validation set\n",
    "        val_log = validate(val_loader, model, criterion)\n",
    "\n",
    "        if config.scheduler == 'CosineAnnealingLR':\n",
    "            scheduler.step()\n",
    "        elif config.scheduler == 'ReduceLROnPlateau':\n",
    "            scheduler.step(val_log['loss'])\n",
    "\n",
    "        print(f\"loss {train_log['loss']:.4f} - iou {train_log['iou']:.4f} - dice {train_log['dice']:.4f} \\\n",
    "                - val_loss {val_log['loss']:.4f} - val_iou {val_log['iou']:.4f} - val_dice {val_log['dice']:.4f}\") \n",
    "\n",
    "        print(train_log, val_log)\n",
    "        log['train_lr'].append(config.lr)\n",
    "        log['train_loss'].append(train_log['loss'])\n",
    "        log['train_iou'].append(train_log['iou'])\n",
    "        log['train_dice'].append(train_log['dice'])\n",
    "        log['val_loss'].append(val_log['loss'])\n",
    "        log['val_iou'].append(val_log['iou'])\n",
    "        log['val_dice'].append(val_log['dice'])\n",
    "\n",
    "        pd.DataFrame(log).to_csv('model_files/%s/log.csv' %\n",
    "                                    config.model, index=False)\n",
    "\n",
    "        trigger += 1\n",
    "\n",
    "        if val_log['dice'] > best_dice:\n",
    "            torch.save(model.state_dict(), 'model_files/%s/model.pth' %\n",
    "                        config.model)\n",
    "            best_dice = val_log['dice']\n",
    "            print(\"=> saved best model\")\n",
    "            trigger = 0\n",
    "\n",
    "        # early stopping\n",
    "        if config.early_stopping >= 0 and trigger >= config.early_stopping:\n",
    "            print(\"=> early stopping\")\n",
    "            break\n",
    "\n",
    "        torch.cuda.empty_cache()\n",
    "\n",
    "    print(f\"Val Loss: {log['val_loss'][-1]:.4f} - Val IOU: {log['val_iou'][-1]:.4f} - Val Dice: {log['val_dice'][-1]:.4f}\")\n",
    "\n",
    "    model.load_state_dict(torch.load('model_files/%s/model.pth' % config.model))\n",
    "    test_log = validate(test_loader, model, criterion)\n",
    "    print(f\"Test loss {test_log['loss']:.4f} - Test IoU {test_log['iou']:.4f} - Test Dice {test_log['dice']:.4f}\")\n",
    "    test_log_df = pd.DataFrame({'model': [config.model], 'epochs': [total_trained_epochs], 'size': [config.SIZE], 'params': [num_params], 'test_dice': [test_log['dice']], 'test_iou': [test_log['iou']], 'test_loss': [test_log['loss']], 'seed' : [config.seed]})\n",
    "    # append test_log_df to test_log.csv\n",
    "    test_log_df.to_csv('test_log.csv', mode='a', header=False, index=False)"
   ]
  },
  {
   "cell_type": "code",
   "execution_count": 3,
   "metadata": {},
   "outputs": [
    {
     "name": "stdout",
     "output_type": "stream",
     "text": [
      "--------------------\n",
      "model: Feature_Fusion_UNet\n",
      "SIZE: 128\n",
      "batch_size: 8\n",
      "num_workers: 8\n",
      "n_channels: 1\n",
      "lr: 0.0001\n",
      "min_lr: 1e-05\n",
      "epochs: 50\n",
      "early_stopping: 50\n",
      "patience: 50\n",
      "base_dir: \n",
      "root_path: breast-ultrasound-images-dataset/Dataset_BUSI_with_GT/\n",
      "semantic: False\n",
      "device: cuda:0\n",
      "classes: ['normal', 'benign', 'malignant']\n",
      "labels: ['cancer']\n",
      "num_classes: 1\n",
      "loss: BCEDiceLoss\n",
      "optimizer: Adam\n",
      "scheduler: CosineAnnealingLR\n",
      "weight_decay: 0.0001\n",
      "momentum: 0.9\n",
      "nesterov: False\n",
      "seed: 4\n",
      "--------------------\n"
     ]
    },
    {
     "name": "stderr",
     "output_type": "stream",
     "text": [
      "/home/cse/Documents/g1/git-repo/wavelet-ensemble-unet/lowlevel.py:323: UserWarning: Plan failed with a cudnnException: CUDNN_BACKEND_EXECUTION_PLAN_DESCRIPTOR: cudnnFinalize Descriptor Failed cudnn_status: CUDNN_STATUS_NOT_SUPPORTED (Triggered internally at ../aten/src/ATen/native/cudnn/Conv_v8.cpp:919.)\n",
      "  y = F.conv_transpose2d(lo, g0, stride=s, padding=pad, groups=C) + \\\n"
     ]
    },
    {
     "name": "stdout",
     "output_type": "stream",
     "text": [
      "==========================================================================================\n",
      "Layer (type:depth-idx)                   Output Shape              Param #\n",
      "==========================================================================================\n",
      "├─WaveletUpsampling: 1-1                 [-1, 1, 256, 256]         --\n",
      "|    └─DWTInverse: 2-1                   [-1, 1, 256, 256]         --\n",
      "├─WaveletChannels: 1-2                   [-1, 1, 128, 128]         --\n",
      "|    └─DWTForward: 2-2                   [-1, 1, 128, 128]         --\n",
      "├─DoubleConv: 1-3                        [-1, 64, 128, 128]        --\n",
      "|    └─Sequential: 2-3                   [-1, 64, 128, 128]        --\n",
      "|    |    └─Conv2d: 3-1                  [-1, 64, 128, 128]        576\n",
      "|    |    └─BatchNorm2d: 3-2             [-1, 64, 128, 128]        128\n",
      "|    |    └─ReLU: 3-3                    [-1, 64, 128, 128]        --\n",
      "|    |    └─Conv2d: 3-4                  [-1, 64, 128, 128]        36,864\n",
      "|    |    └─BatchNorm2d: 3-5             [-1, 64, 128, 128]        128\n",
      "|    |    └─ReLU: 3-6                    [-1, 64, 128, 128]        --\n",
      "├─DoubleConv: 1-4                        [-1, 64, 128, 128]        (recursive)\n",
      "|    └─Sequential: 2-4                   [-1, 64, 128, 128]        (recursive)\n",
      "|    |    └─Conv2d: 3-7                  [-1, 64, 128, 128]        (recursive)\n",
      "|    |    └─BatchNorm2d: 3-8             [-1, 64, 128, 128]        (recursive)\n",
      "|    |    └─ReLU: 3-9                    [-1, 64, 128, 128]        --\n",
      "|    |    └─Conv2d: 3-10                 [-1, 64, 128, 128]        (recursive)\n",
      "|    |    └─BatchNorm2d: 3-11            [-1, 64, 128, 128]        (recursive)\n",
      "|    |    └─ReLU: 3-12                   [-1, 64, 128, 128]        --\n",
      "├─DoubleConv: 1-5                        [-1, 64, 128, 128]        (recursive)\n",
      "|    └─Sequential: 2-5                   [-1, 64, 128, 128]        (recursive)\n",
      "|    |    └─Conv2d: 3-13                 [-1, 64, 128, 128]        (recursive)\n",
      "|    |    └─BatchNorm2d: 3-14            [-1, 64, 128, 128]        (recursive)\n",
      "|    |    └─ReLU: 3-15                   [-1, 64, 128, 128]        --\n",
      "|    |    └─Conv2d: 3-16                 [-1, 64, 128, 128]        (recursive)\n",
      "|    |    └─BatchNorm2d: 3-17            [-1, 64, 128, 128]        (recursive)\n",
      "|    |    └─ReLU: 3-18                   [-1, 64, 128, 128]        --\n",
      "├─DoubleConv: 1-6                        [-1, 64, 128, 128]        (recursive)\n",
      "|    └─Sequential: 2-6                   [-1, 64, 128, 128]        (recursive)\n",
      "|    |    └─Conv2d: 3-19                 [-1, 64, 128, 128]        (recursive)\n",
      "|    |    └─BatchNorm2d: 3-20            [-1, 64, 128, 128]        (recursive)\n",
      "|    |    └─ReLU: 3-21                   [-1, 64, 128, 128]        --\n",
      "|    |    └─Conv2d: 3-22                 [-1, 64, 128, 128]        (recursive)\n",
      "|    |    └─BatchNorm2d: 3-23            [-1, 64, 128, 128]        (recursive)\n",
      "|    |    └─ReLU: 3-24                   [-1, 64, 128, 128]        --\n",
      "├─ModuleList: 1                          []                        --\n",
      "|    └─Down: 2-7                         [-1, 128, 64, 64]         --\n",
      "|    |    └─Sequential: 3-25             [-1, 128, 64, 64]         221,696\n",
      "|    └─Down: 2-8                         [-1, 128, 64, 64]         (recursive)\n",
      "|    |    └─Sequential: 3-26             [-1, 128, 64, 64]         (recursive)\n",
      "|    └─Down: 2-9                         [-1, 128, 64, 64]         (recursive)\n",
      "|    |    └─Sequential: 3-27             [-1, 128, 64, 64]         (recursive)\n",
      "|    └─Down: 2-10                        [-1, 128, 64, 64]         (recursive)\n",
      "|    |    └─Sequential: 3-28             [-1, 128, 64, 64]         (recursive)\n",
      "|    └─Down: 2-11                        [-1, 256, 32, 32]         --\n",
      "|    |    └─Sequential: 3-29             [-1, 256, 32, 32]         885,760\n",
      "|    └─Down: 2-12                        [-1, 256, 32, 32]         (recursive)\n",
      "|    |    └─Sequential: 3-30             [-1, 256, 32, 32]         (recursive)\n",
      "|    └─Down: 2-13                        [-1, 256, 32, 32]         (recursive)\n",
      "|    |    └─Sequential: 3-31             [-1, 256, 32, 32]         (recursive)\n",
      "|    └─Down: 2-14                        [-1, 256, 32, 32]         (recursive)\n",
      "|    |    └─Sequential: 3-32             [-1, 256, 32, 32]         (recursive)\n",
      "|    └─Down: 2-15                        [-1, 512, 16, 16]         --\n",
      "|    |    └─Sequential: 3-33             [-1, 512, 16, 16]         3,540,992\n",
      "|    └─Down: 2-16                        [-1, 512, 16, 16]         (recursive)\n",
      "|    |    └─Sequential: 3-34             [-1, 512, 16, 16]         (recursive)\n",
      "|    └─Down: 2-17                        [-1, 512, 16, 16]         (recursive)\n",
      "|    |    └─Sequential: 3-35             [-1, 512, 16, 16]         (recursive)\n",
      "|    └─Down: 2-18                        [-1, 512, 16, 16]         (recursive)\n",
      "|    |    └─Sequential: 3-36             [-1, 512, 16, 16]         (recursive)\n",
      "|    └─Down: 2-19                        [-1, 1024, 8, 8]          --\n",
      "|    |    └─Sequential: 3-37             [-1, 1024, 8, 8]          14,159,872\n",
      "|    └─Down: 2-20                        [-1, 1024, 8, 8]          (recursive)\n",
      "|    |    └─Sequential: 3-38             [-1, 1024, 8, 8]          (recursive)\n",
      "|    └─Down: 2-21                        [-1, 1024, 8, 8]          (recursive)\n",
      "|    |    └─Sequential: 3-39             [-1, 1024, 8, 8]          (recursive)\n",
      "|    └─Down: 2-22                        [-1, 1024, 8, 8]          (recursive)\n",
      "|    |    └─Sequential: 3-40             [-1, 1024, 8, 8]          (recursive)\n",
      "├─ModuleList: 1                          []                        --\n",
      "|    └─FeatureFusionUp: 2-23             [-1, 512, 16, 16]         --\n",
      "|    |    └─ConvTranspose2d: 3-41        [-1, 512, 16, 16]         2,097,664\n",
      "|    |    └─DoubleConv: 3-42             [-1, 512, 16, 16]         14,157,824\n",
      "|    └─FeatureFusionUp: 2-24             [-1, 256, 32, 32]         --\n",
      "|    |    └─ConvTranspose2d: 3-43        [-1, 256, 32, 32]         524,544\n",
      "|    |    └─DoubleConv: 3-44             [-1, 256, 32, 32]         3,539,968\n",
      "|    └─FeatureFusionUp: 2-25             [-1, 128, 64, 64]         --\n",
      "|    |    └─ConvTranspose2d: 3-45        [-1, 128, 64, 64]         131,200\n",
      "|    |    └─DoubleConv: 3-46             [-1, 128, 64, 64]         885,248\n",
      "|    └─FeatureFusionUp: 2-26             [-1, 64, 128, 128]        --\n",
      "|    |    └─ConvTranspose2d: 3-47        [-1, 64, 128, 128]        32,832\n",
      "|    |    └─DoubleConv: 3-48             [-1, 64, 128, 128]        221,440\n",
      "├─OutConv: 1-7                           [-1, 1, 128, 128]         --\n",
      "|    └─Conv2d: 2-27                      [-1, 1, 128, 128]         65\n",
      "==========================================================================================\n",
      "Total params: 40,436,801\n",
      "Trainable params: 40,436,801\n",
      "Non-trainable params: 0\n",
      "Total mult-adds (G): 4.89\n",
      "==========================================================================================\n",
      "Input size (MB): 0.06\n",
      "Forward/backward pass size (MB): 47.12\n",
      "Params size (MB): 154.25\n",
      "Estimated Total Size (MB): 201.44\n",
      "==========================================================================================\n",
      "Total Images: 647, Masks: 647\n",
      "Epoch [0/50]\n"
     ]
    },
    {
     "name": "stderr",
     "output_type": "stream",
     "text": [
      "100%|██████████| 49/49 [00:19<00:00,  2.48it/s, loss=1.08, iou=0.244, dice=0.38] \n",
      "100%|██████████| 17/17 [00:03<00:00,  5.12it/s, loss=1.36, iou=0.223, dice=0.356]\n"
     ]
    },
    {
     "name": "stdout",
     "output_type": "stream",
     "text": [
      "loss 1.0823 - iou 0.2444 - dice 0.3804                 - val_loss 1.3604 - val_iou 0.2229 - val_dice 0.3557\n",
      "OrderedDict({'loss': 1.0823422590481866, 'iou': 0.24436389939115746, 'dice': 0.38043209378618514}) OrderedDict({'loss': 1.360359324965366, 'iou': 0.2229122936343827, 'dice': 0.3557242162791496})\n",
      "=> saved best model\n",
      "Epoch [1/50]\n"
     ]
    },
    {
     "name": "stderr",
     "output_type": "stream",
     "text": [
      "100%|██████████| 49/49 [00:19<00:00,  2.50it/s, loss=0.939, iou=0.38, dice=0.543] \n",
      "100%|██████████| 17/17 [00:03<00:00,  5.13it/s, loss=1.07, iou=0.264, dice=0.41] \n"
     ]
    },
    {
     "name": "stdout",
     "output_type": "stream",
     "text": [
      "loss 0.9394 - iou 0.3797 - dice 0.5427                 - val_loss 1.0691 - val_iou 0.2641 - val_dice 0.4103\n",
      "OrderedDict({'loss': 0.9394000025139642, 'iou': 0.37971560333647797, 'dice': 0.5427365222538819}) OrderedDict({'loss': 1.069099224815073, 'iou': 0.26405090355120253, 'dice': 0.41033722299543796})\n",
      "=> saved best model\n",
      "Epoch [2/50]\n"
     ]
    },
    {
     "name": "stderr",
     "output_type": "stream",
     "text": [
      "100%|██████████| 49/49 [00:19<00:00,  2.50it/s, loss=0.883, iou=0.427, dice=0.591]\n",
      "100%|██████████| 17/17 [00:03<00:00,  5.12it/s, loss=1.08, iou=0.187, dice=0.309]\n"
     ]
    },
    {
     "name": "stdout",
     "output_type": "stream",
     "text": [
      "loss 0.8829 - iou 0.4267 - dice 0.5907                 - val_loss 1.0804 - val_iou 0.1866 - val_dice 0.3089\n",
      "OrderedDict({'loss': 0.8829335447439214, 'iou': 0.42670664078972875, 'dice': 0.5906672100649526}) OrderedDict({'loss': 1.080365544141725, 'iou': 0.18656190035050246, 'dice': 0.3089344854989586})\n",
      "Epoch [3/50]\n"
     ]
    },
    {
     "name": "stderr",
     "output_type": "stream",
     "text": [
      "100%|██████████| 49/49 [00:19<00:00,  2.49it/s, loss=0.843, iou=0.453, dice=0.617]\n",
      "100%|██████████| 17/17 [00:03<00:00,  5.11it/s, loss=0.908, iou=0.366, dice=0.527]\n"
     ]
    },
    {
     "name": "stdout",
     "output_type": "stream",
     "text": [
      "loss 0.8425 - iou 0.4528 - dice 0.6166                 - val_loss 0.9082 - val_iou 0.3661 - val_dice 0.5274\n",
      "OrderedDict({'loss': 0.84251020802665, 'iou': 0.4528147642419287, 'dice': 0.6165667322456234}) OrderedDict({'loss': 0.908195627290149, 'iou': 0.3661483398230072, 'dice': 0.5274147961146461})\n",
      "=> saved best model\n",
      "Epoch [4/50]\n"
     ]
    },
    {
     "name": "stderr",
     "output_type": "stream",
     "text": [
      "100%|██████████| 49/49 [00:19<00:00,  2.47it/s, loss=0.808, iou=0.473, dice=0.634]\n",
      "100%|██████████| 17/17 [00:03<00:00,  5.10it/s, loss=0.926, iou=0.391, dice=0.551]\n"
     ]
    },
    {
     "name": "stdout",
     "output_type": "stream",
     "text": [
      "loss 0.8075 - iou 0.4734 - dice 0.6338                 - val_loss 0.9261 - val_iou 0.3914 - val_dice 0.5515\n",
      "OrderedDict({'loss': 0.8075165748596191, 'iou': 0.4733694694110373, 'dice': 0.6337879846427948}) OrderedDict({'loss': 0.9261421662892482, 'iou': 0.3914147747204371, 'dice': 0.5514917551543356})\n",
      "=> saved best model\n",
      "Epoch [5/50]\n"
     ]
    },
    {
     "name": "stderr",
     "output_type": "stream",
     "text": [
      "100%|██████████| 49/49 [00:19<00:00,  2.47it/s, loss=0.777, iou=0.487, dice=0.649]\n",
      "100%|██████████| 17/17 [00:03<00:00,  5.09it/s, loss=0.882, iou=0.41, dice=0.57]  \n"
     ]
    },
    {
     "name": "stdout",
     "output_type": "stream",
     "text": [
      "loss 0.7773 - iou 0.4871 - dice 0.6488                 - val_loss 0.8815 - val_iou 0.4102 - val_dice 0.5695\n",
      "OrderedDict({'loss': 0.7772869049888296, 'iou': 0.487064917189215, 'dice': 0.6487703016567127}) OrderedDict({'loss': 0.8815460787263028, 'iou': 0.4101952076854572, 'dice': 0.5695200087439426})\n",
      "=> saved best model\n",
      "Epoch [6/50]\n"
     ]
    },
    {
     "name": "stderr",
     "output_type": "stream",
     "text": [
      "100%|██████████| 49/49 [00:19<00:00,  2.48it/s, loss=0.754, iou=0.497, dice=0.656]\n",
      "100%|██████████| 17/17 [00:03<00:00,  5.10it/s, loss=0.876, iou=0.374, dice=0.532]\n"
     ]
    },
    {
     "name": "stdout",
     "output_type": "stream",
     "text": [
      "loss 0.7537 - iou 0.4967 - dice 0.6562                 - val_loss 0.8763 - val_iou 0.3736 - val_dice 0.5324\n",
      "OrderedDict({'loss': 0.7536968465932866, 'iou': 0.49668035378474135, 'dice': 0.6562032378416188}) OrderedDict({'loss': 0.8762769652891529, 'iou': 0.3736442505753798, 'dice': 0.5324081435281262})\n",
      "Epoch [7/50]\n"
     ]
    },
    {
     "name": "stderr",
     "output_type": "stream",
     "text": [
      "100%|██████████| 49/49 [00:19<00:00,  2.49it/s, loss=0.722, iou=0.507, dice=0.663]\n",
      "100%|██████████| 17/17 [00:03<00:00,  5.09it/s, loss=0.914, iou=0.357, dice=0.51] \n"
     ]
    },
    {
     "name": "stdout",
     "output_type": "stream",
     "text": [
      "loss 0.7219 - iou 0.5068 - dice 0.6628                 - val_loss 0.9144 - val_iou 0.3571 - val_dice 0.5096\n",
      "OrderedDict({'loss': 0.7219265060326487, 'iou': 0.5068007855729835, 'dice': 0.6627630981336685}) OrderedDict({'loss': 0.9144404567489328, 'iou': 0.35710071547293737, 'dice': 0.509620667899222})\n",
      "Epoch [8/50]\n"
     ]
    },
    {
     "name": "stderr",
     "output_type": "stream",
     "text": [
      "100%|██████████| 49/49 [00:19<00:00,  2.50it/s, loss=0.72, iou=0.495, dice=0.652] \n",
      "100%|██████████| 17/17 [00:03<00:00,  5.05it/s, loss=0.777, iou=0.485, dice=0.639]\n"
     ]
    },
    {
     "name": "stdout",
     "output_type": "stream",
     "text": [
      "loss 0.7202 - iou 0.4955 - dice 0.6517                 - val_loss 0.7775 - val_iou 0.4849 - val_dice 0.6392\n",
      "OrderedDict({'loss': 0.7201628500653297, 'iou': 0.4954599423165046, 'dice': 0.651650714107578}) OrderedDict({'loss': 0.777455679205961, 'iou': 0.4849007134027878, 'dice': 0.639218707194242})\n",
      "=> saved best model\n",
      "Epoch [9/50]\n"
     ]
    },
    {
     "name": "stderr",
     "output_type": "stream",
     "text": [
      "100%|██████████| 49/49 [00:19<00:00,  2.49it/s, loss=0.682, iou=0.525, dice=0.68] \n",
      "100%|██████████| 17/17 [00:03<00:00,  5.14it/s, loss=0.852, iou=0.41, dice=0.568] \n"
     ]
    },
    {
     "name": "stdout",
     "output_type": "stream",
     "text": [
      "loss 0.6818 - iou 0.5247 - dice 0.6799                 - val_loss 0.8523 - val_iou 0.4102 - val_dice 0.5683\n",
      "OrderedDict({'loss': 0.6817941714807884, 'iou': 0.5246807824155659, 'dice': 0.6798976834101236}) OrderedDict({'loss': 0.8522742746412292, 'iou': 0.41022449708552977, 'dice': 0.5683012644786429})\n",
      "Epoch [10/50]\n"
     ]
    },
    {
     "name": "stderr",
     "output_type": "stream",
     "text": [
      "100%|██████████| 49/49 [00:19<00:00,  2.48it/s, loss=0.66, iou=0.54, dice=0.691]  \n",
      "100%|██████████| 17/17 [00:03<00:00,  4.75it/s, loss=0.778, iou=0.403, dice=0.565]\n"
     ]
    },
    {
     "name": "stdout",
     "output_type": "stream",
     "text": [
      "loss 0.6600 - iou 0.5396 - dice 0.6910                 - val_loss 0.7780 - val_iou 0.4027 - val_dice 0.5647\n",
      "OrderedDict({'loss': 0.6599872941823349, 'iou': 0.5395985677432477, 'dice': 0.6909990509569663}) OrderedDict({'loss': 0.7780211179755455, 'iou': 0.4027428552912642, 'dice': 0.5646634052505453})\n",
      "Epoch [11/50]\n"
     ]
    },
    {
     "name": "stderr",
     "output_type": "stream",
     "text": [
      "100%|██████████| 49/49 [00:19<00:00,  2.50it/s, loss=0.644, iou=0.543, dice=0.695]\n",
      "100%|██████████| 17/17 [00:03<00:00,  5.04it/s, loss=0.734, iou=0.442, dice=0.596]\n"
     ]
    },
    {
     "name": "stdout",
     "output_type": "stream",
     "text": [
      "loss 0.6438 - iou 0.5426 - dice 0.6948                 - val_loss 0.7339 - val_iou 0.4419 - val_dice 0.5962\n",
      "OrderedDict({'loss': 0.6438020406310091, 'iou': 0.5425804973195273, 'dice': 0.6947772538112765}) OrderedDict({'loss': 0.7338834372601768, 'iou': 0.44190481969802226, 'dice': 0.5962043128724903})\n",
      "Epoch [12/50]\n"
     ]
    },
    {
     "name": "stderr",
     "output_type": "stream",
     "text": [
      "100%|██████████| 49/49 [00:19<00:00,  2.50it/s, loss=0.618, iou=0.565, dice=0.714]\n",
      "100%|██████████| 17/17 [00:03<00:00,  4.95it/s, loss=0.715, iou=0.467, dice=0.63] \n"
     ]
    },
    {
     "name": "stdout",
     "output_type": "stream",
     "text": [
      "loss 0.6179 - iou 0.5655 - dice 0.7137                 - val_loss 0.7152 - val_iou 0.4668 - val_dice 0.6295\n",
      "OrderedDict({'loss': 0.6179117769310155, 'iou': 0.5654675573940763, 'dice': 0.7136850319730317}) OrderedDict({'loss': 0.7151692643646121, 'iou': 0.4667785228034119, 'dice': 0.6295482243488199})\n",
      "Epoch [13/50]\n"
     ]
    },
    {
     "name": "stderr",
     "output_type": "stream",
     "text": [
      "100%|██████████| 49/49 [00:19<00:00,  2.46it/s, loss=0.6, iou=0.57, dice=0.719]   \n",
      "100%|██████████| 17/17 [00:03<00:00,  4.96it/s, loss=0.688, iou=0.486, dice=0.643]\n"
     ]
    },
    {
     "name": "stdout",
     "output_type": "stream",
     "text": [
      "loss 0.6004 - iou 0.5700 - dice 0.7190                 - val_loss 0.6879 - val_iou 0.4864 - val_dice 0.6435\n",
      "OrderedDict({'loss': 0.6004276542933946, 'iou': 0.5699774608943059, 'dice': 0.7190278933710968}) OrderedDict({'loss': 0.6879187242467274, 'iou': 0.48641324947369396, 'dice': 0.6434618245555157})\n",
      "=> saved best model\n",
      "Epoch [14/50]\n"
     ]
    },
    {
     "name": "stderr",
     "output_type": "stream",
     "text": [
      "100%|██████████| 49/49 [00:19<00:00,  2.47it/s, loss=0.568, iou=0.597, dice=0.738]\n",
      "100%|██████████| 17/17 [00:03<00:00,  5.08it/s, loss=0.657, iou=0.459, dice=0.62] \n"
     ]
    },
    {
     "name": "stdout",
     "output_type": "stream",
     "text": [
      "loss 0.5682 - iou 0.5971 - dice 0.7379                 - val_loss 0.6574 - val_iou 0.4591 - val_dice 0.6197\n",
      "OrderedDict({'loss': 0.5682023579312354, 'iou': 0.5971123739099644, 'dice': 0.7378876369289334}) OrderedDict({'loss': 0.6573734348134477, 'iou': 0.45908379039676483, 'dice': 0.6196541018116677})\n",
      "Epoch [15/50]\n"
     ]
    },
    {
     "name": "stderr",
     "output_type": "stream",
     "text": [
      "100%|██████████| 49/49 [00:19<00:00,  2.51it/s, loss=0.56, iou=0.584, dice=0.731] \n",
      "100%|██████████| 17/17 [00:03<00:00,  5.06it/s, loss=0.697, iou=0.454, dice=0.605]\n"
     ]
    },
    {
     "name": "stdout",
     "output_type": "stream",
     "text": [
      "loss 0.5599 - iou 0.5838 - dice 0.7307                 - val_loss 0.6969 - val_iou 0.4543 - val_dice 0.6051\n",
      "OrderedDict({'loss': 0.5598646537544801, 'iou': 0.5838402882994875, 'dice': 0.7306824138858707}) OrderedDict({'loss': 0.6969028646631759, 'iou': 0.45426881509918626, 'dice': 0.605103285831423})\n",
      "Epoch [16/50]\n"
     ]
    },
    {
     "name": "stderr",
     "output_type": "stream",
     "text": [
      "100%|██████████| 49/49 [00:19<00:00,  2.51it/s, loss=0.548, iou=0.591, dice=0.733]\n",
      "100%|██████████| 17/17 [00:03<00:00,  5.09it/s, loss=0.669, iou=0.459, dice=0.618]\n"
     ]
    },
    {
     "name": "stdout",
     "output_type": "stream",
     "text": [
      "loss 0.5481 - iou 0.5908 - dice 0.7325                 - val_loss 0.6689 - val_iou 0.4585 - val_dice 0.6179\n",
      "OrderedDict({'loss': 0.5481275793203374, 'iou': 0.5907761495193021, 'dice': 0.7325126353540303}) OrderedDict({'loss': 0.6689217820648075, 'iou': 0.4585015029958879, 'dice': 0.6179102551200045})\n",
      "Epoch [17/50]\n"
     ]
    },
    {
     "name": "stderr",
     "output_type": "stream",
     "text": [
      "100%|██████████| 49/49 [00:19<00:00,  2.51it/s, loss=0.524, iou=0.61, dice=0.751] \n",
      "100%|██████████| 17/17 [00:03<00:00,  5.05it/s, loss=0.602, iou=0.559, dice=0.709]\n"
     ]
    },
    {
     "name": "stdout",
     "output_type": "stream",
     "text": [
      "loss 0.5243 - iou 0.6102 - dice 0.7512                 - val_loss 0.6021 - val_iou 0.5593 - val_dice 0.7088\n",
      "OrderedDict({'loss': 0.5243449487636999, 'iou': 0.6102259175691186, 'dice': 0.7511921746885173}) OrderedDict({'loss': 0.6020644621331562, 'iou': 0.5593028368738818, 'dice': 0.7087824829448419})\n",
      "=> saved best model\n",
      "Epoch [18/50]\n"
     ]
    },
    {
     "name": "stderr",
     "output_type": "stream",
     "text": [
      " 49%|████▉     | 24/49 [00:09<00:10,  2.47it/s, loss=0.498, iou=0.636, dice=0.77] "
     ]
    }
   ],
   "source": [
    "seeds = [4, 9, 17, 18, 38]\n",
    "# seeds = [4]\n",
    "\n",
    "for seed in seeds:\n",
    "    config.seed = seed\n",
    "    set_seed()\n",
    "    run_model(config)"
   ]
  },
  {
   "cell_type": "code",
   "execution_count": null,
   "metadata": {},
   "outputs": [
    {
     "data": {
      "image/png": "[encoded data removed]",
      "text/plain": [
       "<Figure size 1200x400 with 3 Axes>"
      ]
     },
     "metadata": {},
     "output_type": "display_data"
    }
   ],
   "source": [
    "def plot_curves(model_name):\n",
    "    log_data = pd.read_csv('model_files/%s/log.csv' % model_name)\n",
    "\n",
    "    # Plot training and validation loss\n",
    "    plt.figure(figsize=(12, 4))\n",
    "    plt.subplot(1, 3, 1)\n",
    "    plt.plot(log_data['train_loss'], label='Train Loss')\n",
    "    plt.plot(log_data['val_loss'], label='Val Loss')\n",
    "    plt.title('Loss')\n",
    "    plt.legend()\n",
    "\n",
    "    # Plot training and validation IoU\n",
    "    plt.subplot(1, 3, 2)\n",
    "    plt.plot(log_data['train_iou'], label='Train IoU')\n",
    "    plt.plot(log_data['val_iou'], label='Val IoU')\n",
    "    plt.title('IoU')\n",
    "    plt.legend()\n",
    "\n",
    "    # Plot training and validation Dice score\n",
    "    plt.subplot(1, 3, 3)\n",
    "    plt.plot(log_data['train_dice'], label='Train Dice')\n",
    "    plt.plot(log_data['val_dice'], label='Val Dice')\n",
    "    plt.title('Dice Score')\n",
    "    plt.legend()\n",
    "\n",
    "    plt.tight_layout()\n",
    "    plt.show()\n",
    "\n",
    "plot_curves('Wavelet_UNet_All')"
   ]
  },
  {
   "cell_type": "code",
   "execution_count": null,
   "metadata": {},
   "outputs": [],
   "source": [
    "# # set seeds of 4, 9, 17, 18, 38\n",
    "# seeds = [4, 9, 17, 18, 38]\n",
    "# model_names = ['UNet', 'Wavelet_UNet']\n",
    "\n",
    "# for seed in seeds:\n",
    "#     for model_name in model_names:\n",
    "#         config.seed = seed\n",
    "#         config.model = model_name\n",
    "#         set_seed()\n",
    "#         run_model(config)"
   ]
  },
  {
   "cell_type": "code",
   "execution_count": null,
   "metadata": {},
   "outputs": [],
   "source": []
  }
 ],
 "metadata": {
  "kernelspec": {
   "display_name": "busi",
   "language": "python",
   "name": "python3"
  },
  "language_info": {
   "codemirror_mode": {
    "name": "ipython",
    "version": 3
   },
   "file_extension": ".py",
   "mimetype": "text/x-python",
   "name": "python",
   "nbconvert_exporter": "python",
   "pygments_lexer": "ipython3",
   "version": "3.12.3"
  }
 },
 "nbformat": 4,
 "nbformat_minor": 2
}
